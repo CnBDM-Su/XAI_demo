{
  "cells": [
    {
      "cell_type": "markdown",
      "metadata": {},
      "source": [
        "\n# Basic Dataset Operations\n"
      ]
    },
    {
      "cell_type": "code",
      "execution_count": null,
      "metadata": {
        "collapsed": false
      },
      "outputs": [],
      "source": [
        "import pandas as pd"
      ]
    },
    {
      "cell_type": "markdown",
      "metadata": {},
      "source": [
        "Import modeva modules\n\n"
      ]
    },
    {
      "cell_type": "code",
      "execution_count": null,
      "metadata": {
        "collapsed": false
      },
      "outputs": [],
      "source": [
        "from modeva import DataSet\nfrom modeva.data.utils.loading import load_builtin_data"
      ]
    },
    {
      "cell_type": "markdown",
      "metadata": {},
      "source": [
        "Load a dataset in pandas DataFrame format\n\n"
      ]
    },
    {
      "cell_type": "code",
      "execution_count": null,
      "metadata": {
        "collapsed": false
      },
      "outputs": [],
      "source": [
        "data = load_builtin_data(\"TaiwanCredit\")\ndata"
      ]
    },
    {
      "cell_type": "markdown",
      "metadata": {},
      "source": [
        "Manually create some special values and missing values for demostration purpose\n\n"
      ]
    },
    {
      "cell_type": "code",
      "execution_count": null,
      "metadata": {
        "collapsed": false
      },
      "outputs": [],
      "source": [
        "data[\"LIMIT_BAL\"].iloc[:10] = \"SV1\"\ndata[\"PAY_1\"].iloc[10:15] = \"SV2\"\ndata[\"EDUCATION\"].iloc[5:20] = pd.NA\ndata[\"AGE\"].iloc[0:5] = pd.NA\ndata"
      ]
    },
    {
      "cell_type": "markdown",
      "metadata": {},
      "source": [
        "Load the dataframe into Modeva\n\n"
      ]
    },
    {
      "cell_type": "code",
      "execution_count": null,
      "metadata": {
        "collapsed": false
      },
      "outputs": [],
      "source": [
        "ds = DataSet(name=\"TW-Credit\")\nds.load_dataframe(data)\nds.data.head(20).iloc[:, :10]"
      ]
    },
    {
      "cell_type": "markdown",
      "metadata": {},
      "source": [
        "Check if the data has missing values\n\n"
      ]
    },
    {
      "cell_type": "code",
      "execution_count": null,
      "metadata": {
        "collapsed": false
      },
      "outputs": [],
      "source": [
        "results = ds.summary()\nresults.table[\"summary\"]"
      ]
    },
    {
      "cell_type": "markdown",
      "metadata": {},
      "source": [
        "Check the features with special values.\n(mixed means that feature is a mixture of numerical and categorical)\n\n"
      ]
    },
    {
      "cell_type": "code",
      "execution_count": null,
      "metadata": {
        "collapsed": false
      },
      "outputs": [],
      "source": [
        "results.table[\"mixed\"]"
      ]
    },
    {
      "cell_type": "markdown",
      "metadata": {},
      "source": [
        "## Preprocess the data\nReset preprocessing\n\n"
      ]
    },
    {
      "cell_type": "code",
      "execution_count": null,
      "metadata": {
        "collapsed": false
      },
      "outputs": [],
      "source": [
        "ds.reset_preprocess()"
      ]
    },
    {
      "cell_type": "markdown",
      "metadata": {},
      "source": [
        "Impute numerical features, and add an indicator column for missing values\n\n"
      ]
    },
    {
      "cell_type": "code",
      "execution_count": null,
      "metadata": {
        "collapsed": false
      },
      "outputs": [],
      "source": [
        "ds.impute_missing(features=ds.feature_names_numerical, method='mean',\n                  add_indicators=True)\n\n# Impute categorical features, and add an indicator column for missing values\nds.impute_missing(features=ds.feature_names_categorical, method='most_frequent',\n                  add_indicators=True)\n\n# Impute mixed features, and add an indicator column for missing and special values\n# The list of special values need to be configured here manually.\nds.impute_missing(features=ds.feature_names_mixed, method='mean',\n                  add_indicators=True, special_values=[\"SV1\", \"SV2\"])"
      ]
    },
    {
      "cell_type": "markdown",
      "metadata": {},
      "source": [
        "Encoding categorical  features\n\n"
      ]
    },
    {
      "cell_type": "code",
      "execution_count": null,
      "metadata": {
        "collapsed": false
      },
      "outputs": [],
      "source": [
        "ds.encode_categorical(features=(\"EDUCATION\", \"SEX\", \"MARRIAGE\"), method=\"onehot\")"
      ]
    },
    {
      "cell_type": "markdown",
      "metadata": {},
      "source": [
        "Scaling numerical features\n\n"
      ]
    },
    {
      "cell_type": "code",
      "execution_count": null,
      "metadata": {
        "collapsed": false
      },
      "outputs": [],
      "source": [
        "ds.scale_numerical(features=(\"PAY_1\", \"PAY_2\"), method=\"minmax\")\nds.scale_numerical(features=(\"LIMIT_BAL\", ), method=\"log1p\")\nds.scale_numerical(features=(\"AGE\", ), method=\"square\")\nds.scale_numerical(features=(\"PAY_AMT1\", ), method=\"quantile\")\nds.scale_numerical(features=(\"PAY_1\", \"PAY_2\",), method=\"log1p\")"
      ]
    },
    {
      "cell_type": "markdown",
      "metadata": {},
      "source": [
        "Binning numerical features\n\n"
      ]
    },
    {
      "cell_type": "code",
      "execution_count": null,
      "metadata": {
        "collapsed": false
      },
      "outputs": [],
      "source": [
        "ds.bin_numerical(features=(\"AGE\", \"PAY_3\", ), bins=10)"
      ]
    },
    {
      "cell_type": "markdown",
      "metadata": {},
      "source": [
        "Execute the preprocessing steps defined above\n\n"
      ]
    },
    {
      "cell_type": "code",
      "execution_count": null,
      "metadata": {
        "collapsed": false
      },
      "outputs": [],
      "source": [
        "ds.preprocess()\nds.to_df()"
      ]
    },
    {
      "cell_type": "markdown",
      "metadata": {},
      "source": [
        "Split data, set target, sample weight variables, and disable features that will not be used for modeling\n\n"
      ]
    },
    {
      "cell_type": "code",
      "execution_count": null,
      "metadata": {
        "collapsed": false
      },
      "outputs": [],
      "source": [
        "ds.set_random_split()\nds.set_target(\"FlagDefault\")\nds.set_sample_weight(\"LIMIT_BAL\")\nds.set_inactive_features(features=('SEX_2.0',\n                                   'MARRIAGE_1.0',\n                                   'MARRIAGE_2.0'))\nds.feature_names, ds.feature_types, ds.train_x, ds.train_y, ds.test_x, ds.test_y"
      ]
    },
    {
      "cell_type": "markdown",
      "metadata": {},
      "source": [
        "Register data into MLFlow and view registered data\n\n"
      ]
    },
    {
      "cell_type": "code",
      "execution_count": null,
      "metadata": {
        "collapsed": false
      },
      "outputs": [],
      "source": [
        "ds.register(override=True)\nds.list_registered_data()"
      ]
    },
    {
      "cell_type": "markdown",
      "metadata": {},
      "source": [
        "Load data from MLFlow\n\n"
      ]
    },
    {
      "cell_type": "code",
      "execution_count": null,
      "metadata": {
        "collapsed": false
      },
      "outputs": [],
      "source": [
        "dsload = DataSet(name=\"TW-Credit\")\ndsload.load_registered_data(name=\"TW-Credit\")\ndsload"
      ]
    }
  ],
  "metadata": {
    "kernelspec": {
      "display_name": "Python 3",
      "language": "python",
      "name": "python3"
    },
    "language_info": {
      "codemirror_mode": {
        "name": "ipython",
        "version": 3
      },
      "file_extension": ".py",
      "mimetype": "text/x-python",
      "name": "python",
      "nbconvert_exporter": "python",
      "pygments_lexer": "ipython3",
      "version": "3.11.0"
    }
  },
  "nbformat": 4,
  "nbformat_minor": 0
}