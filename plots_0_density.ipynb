{
  "cells": [
    {
      "cell_type": "markdown",
      "metadata": {},
      "source": [
        "\n# Density Plot\n"
      ]
    },
    {
      "cell_type": "markdown",
      "metadata": {},
      "source": [
        "Simple Density\n\n"
      ]
    },
    {
      "cell_type": "code",
      "execution_count": null,
      "metadata": {
        "collapsed": false
      },
      "outputs": [],
      "source": [
        "from IPython.display import HTML\nimport mocharts as mc\nimport seaborn as sns\npenguins = sns.load_dataset(\"penguins\")\npenguins=penguins.dropna()\nkde = mc.kdeplot(x=penguins[\"flipper_length_mm\"].values, color='red')\nkde.set_tooltip(precision=4)\n# kde.show()\nHTML(kde.show(return_html=True, silent=True))"
      ]
    },
    {
      "cell_type": "markdown",
      "metadata": {},
      "source": [
        "Ridge Plot\n\n"
      ]
    },
    {
      "cell_type": "code",
      "execution_count": null,
      "metadata": {
        "collapsed": false
      },
      "outputs": [],
      "source": [
        "import mocharts as mc\nimport seaborn as sns\npenguins = sns.load_dataset(\"penguins\")\npenguins=penguins.dropna()\nkde = mc.ridgeplot(x=penguins[\"flipper_length_mm\"].values, label=penguins['species'].values)\nkde.show()\nHTML(kde.show(return_html=True, silent=True))"
      ]
    },
    {
      "cell_type": "markdown",
      "metadata": {},
      "source": [
        "Custom Density Plot\n\n"
      ]
    },
    {
      "cell_type": "code",
      "execution_count": null,
      "metadata": {
        "collapsed": false
      },
      "outputs": [],
      "source": [
        "import mocharts as mc\nimport seaborn as sns\npenguins = sns.load_dataset(\"penguins\")\npenguins=penguins.dropna()\nkde = mc.kdeplot(x=penguins[\"flipper_length_mm\"].values, label=penguins['species'].values, common_norm=True, fill_area=False,\n                color=['red','yellow','pink'])\nkde.set_tooltip(precision=4)\nkde.set_xaxis(axis_name='flipper_length_mm')\nkde.set_yaxis(axis_name='density')\nkde.set_title('Density')\nkde.set_legend()\n# kde.show()\nHTML(kde.show(return_html=True, silent=True))"
      ]
    },
    {
      "cell_type": "markdown",
      "metadata": {},
      "source": [
        "2D KDE Plot\n\n"
      ]
    },
    {
      "cell_type": "code",
      "execution_count": null,
      "metadata": {
        "collapsed": false
      },
      "outputs": [],
      "source": [
        "import mocharts as mc\nfrom sklearn.datasets import load_iris\n\ndata = load_iris()\ntarget = [data['target_names'][i] for i in data['target']]\n\nplot = mc.kde2Dplot(x=data['data'][:,0],y=data['data'][:,1], show_scatter=True,\n             levels=8, bandwidth=1.2, threshold=0, color=['grey'])\nplot.set_tooltip(show=False)\n\nplot.set_title('kde2d')\nplot.set_xaxis(axis_name=data['feature_names'][0])\nplot.set_yaxis(axis_name=data['feature_names'][1])\n# plot.show()\nHTML(plot.show(return_html=True, silent=True))"
      ]
    }
  ],
  "metadata": {
    "kernelspec": {
      "display_name": "Python 3",
      "language": "python",
      "name": "python3"
    },
    "language_info": {
      "codemirror_mode": {
        "name": "ipython",
        "version": 3
      },
      "file_extension": ".py",
      "mimetype": "text/x-python",
      "name": "python",
      "nbconvert_exporter": "python",
      "pygments_lexer": "ipython3",
      "version": "3.11.0"
    }
  },
  "nbformat": 4,
  "nbformat_minor": 0
}